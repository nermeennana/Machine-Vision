{
 "cells": [
  {
   "cell_type": "code",
   "execution_count": 8,
   "metadata": {},
   "outputs": [
    {
     "name": "stdout",
     "output_type": "stream",
     "text": [
      "Iteration 1, loss = 0.19718089\n",
      "Iteration 2, loss = 0.07156832\n",
      "Iteration 3, loss = 0.05814348\n",
      "Iteration 4, loss = 0.04893987\n",
      "Iteration 5, loss = 0.04182433\n",
      "Iteration 6, loss = 0.03640075\n",
      "Iteration 7, loss = 0.03146187\n",
      "Iteration 8, loss = 0.02786022\n",
      "Iteration 9, loss = 0.02386394\n",
      "Iteration 10, loss = 0.02127815\n"
     ]
    },
    {
     "name": "stderr",
     "output_type": "stream",
     "text": [
      "C:\\Users\\nerme\\AppData\\Local\\Packages\\PythonSoftwareFoundation.Python.3.12_qbz5n2kfra8p0\\LocalCache\\local-packages\\Python312\\site-packages\\sklearn\\neural_network\\_multilayer_perceptron.py:691: ConvergenceWarning: Stochastic Optimizer: Maximum iterations (10) reached and the optimization hasn't converged yet.\n",
      "  warnings.warn(\n"
     ]
    },
    {
     "name": "stdout",
     "output_type": "stream",
     "text": [
      "Accuracy of the build_in code (HOG): 98.02142857142857%\n"
     ]
    }
   ],
   "source": [
    "from sklearn.datasets import fetch_openml\n",
    "from sklearn.model_selection import train_test_split\n",
    "from sklearn.neural_network import MLPClassifier\n",
    "from sklearn.metrics import accuracy_score\n",
    "from skimage.feature import hog\n",
    "\n",
    "# Fetch the MNIST dataset\n",
    "mnist = fetch_openml('mnist_784')\n",
    "\n",
    "# Compute HOG features\n",
    "hog_features = [hog(image.reshape((28, 28)), pixels_per_cell=(4, 4), cells_per_block=(2, 2), orientations=9) for image in mnist.data.values.reshape(-1, 28, 28)]\n",
    "\n",
    "# Split the data into training and testing sets\n",
    "X_train, X_test, y_train, y_test = train_test_split(hog_features, mnist.target, test_size=0.2, random_state=42)\n",
    "\n",
    "# Create a Multi-layer Perceptron classifier\n",
    "mlp = MLPClassifier(hidden_layer_sizes=(100,), max_iter=10, alpha=1e-4,\n",
    "                    solver='sgd', verbose=10, random_state=1,\n",
    "                    learning_rate_init=.1)\n",
    "\n",
    "# Train the classifier\n",
    "mlp.fit(X_train, y_train)\n",
    "\n",
    "# Predict the labels for the test set\n",
    "predicted = mlp.predict(X_test)\n",
    "\n",
    "# Calculate the accuracy\n",
    "accuracy = accuracy_score(y_test, predicted)\n",
    "print(f\"Accuracy of the build_in code (HOG): {accuracy * 100}%\")\n"
   ]
  }
 ],
 "metadata": {
  "kernelspec": {
   "display_name": "Python 3",
   "language": "python",
   "name": "python3"
  },
  "language_info": {
   "codemirror_mode": {
    "name": "ipython",
    "version": 3
   },
   "file_extension": ".py",
   "mimetype": "text/x-python",
   "name": "python",
   "nbconvert_exporter": "python",
   "pygments_lexer": "ipython3",
   "version": "3.12.2"
  }
 },
 "nbformat": 4,
 "nbformat_minor": 2
}
